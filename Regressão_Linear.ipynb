{
  "nbformat": 4,
  "nbformat_minor": 0,
  "metadata": {
    "colab": {
      "name": "Regressão Linear.ipynb",
      "provenance": [],
      "collapsed_sections": [],
      "authorship_tag": "ABX9TyNVuGDMpefQ3iNsREmtlmsG",
      "include_colab_link": true
    },
    "kernelspec": {
      "name": "python3",
      "display_name": "Python 3"
    },
    "language_info": {
      "name": "python"
    }
  },
  "cells": [
    {
      "cell_type": "markdown",
      "metadata": {
        "id": "view-in-github",
        "colab_type": "text"
      },
      "source": [
        "<a href=\"https://colab.research.google.com/github/matheusfantoni/inteligencia_artificial_praticas/blob/master/Regress%C3%A3o_Linear.ipynb\" target=\"_parent\"><img src=\"https://colab.research.google.com/assets/colab-badge.svg\" alt=\"Open In Colab\"/></a>"
      ]
    },
    {
      "cell_type": "code",
      "metadata": {
        "id": "rSfVqC7uBX3V"
      },
      "source": [
        "import pandas as pd\n",
        "import numpy as np\n",
        "from sklearn.linear_model import LinearRegression\n",
        "import matplotlib.pyplot as plt"
      ],
      "execution_count": 33,
      "outputs": []
    },
    {
      "cell_type": "code",
      "metadata": {
        "id": "v9c-yuptA7Ae"
      },
      "source": [
        "dataset = pd.read_csv(\"AnaliseEstudo.csv\", sep = ';')"
      ],
      "execution_count": 3,
      "outputs": []
    },
    {
      "cell_type": "code",
      "metadata": {
        "colab": {
          "base_uri": "https://localhost:8080/",
          "height": 204
        },
        "id": "gS_JtESeDAsB",
        "outputId": "45abdf3e-b71d-4c70-ca33-950273790bba"
      },
      "source": [
        "dataset.head()"
      ],
      "execution_count": 10,
      "outputs": [
        {
          "output_type": "execute_result",
          "data": {
            "text/html": [
              "<div>\n",
              "<style scoped>\n",
              "    .dataframe tbody tr th:only-of-type {\n",
              "        vertical-align: middle;\n",
              "    }\n",
              "\n",
              "    .dataframe tbody tr th {\n",
              "        vertical-align: top;\n",
              "    }\n",
              "\n",
              "    .dataframe thead th {\n",
              "        text-align: right;\n",
              "    }\n",
              "</style>\n",
              "<table border=\"1\" class=\"dataframe\">\n",
              "  <thead>\n",
              "    <tr style=\"text-align: right;\">\n",
              "      <th></th>\n",
              "      <th>Idade</th>\n",
              "      <th>TempoEstudo</th>\n",
              "      <th>Faltas</th>\n",
              "      <th>Prova1</th>\n",
              "      <th>Prova2</th>\n",
              "      <th>Prova3</th>\n",
              "    </tr>\n",
              "  </thead>\n",
              "  <tbody>\n",
              "    <tr>\n",
              "      <th>0</th>\n",
              "      <td>18</td>\n",
              "      <td>2</td>\n",
              "      <td>4</td>\n",
              "      <td>0</td>\n",
              "      <td>11</td>\n",
              "      <td>11</td>\n",
              "    </tr>\n",
              "    <tr>\n",
              "      <th>1</th>\n",
              "      <td>17</td>\n",
              "      <td>2</td>\n",
              "      <td>2</td>\n",
              "      <td>9</td>\n",
              "      <td>11</td>\n",
              "      <td>11</td>\n",
              "    </tr>\n",
              "    <tr>\n",
              "      <th>2</th>\n",
              "      <td>15</td>\n",
              "      <td>2</td>\n",
              "      <td>6</td>\n",
              "      <td>12</td>\n",
              "      <td>13</td>\n",
              "      <td>12</td>\n",
              "    </tr>\n",
              "    <tr>\n",
              "      <th>3</th>\n",
              "      <td>15</td>\n",
              "      <td>3</td>\n",
              "      <td>0</td>\n",
              "      <td>14</td>\n",
              "      <td>14</td>\n",
              "      <td>14</td>\n",
              "    </tr>\n",
              "    <tr>\n",
              "      <th>4</th>\n",
              "      <td>16</td>\n",
              "      <td>2</td>\n",
              "      <td>0</td>\n",
              "      <td>11</td>\n",
              "      <td>13</td>\n",
              "      <td>13</td>\n",
              "    </tr>\n",
              "  </tbody>\n",
              "</table>\n",
              "</div>"
            ],
            "text/plain": [
              "   Idade  TempoEstudo  Faltas  Prova1  Prova2  Prova3\n",
              "0     18            2       4       0      11      11\n",
              "1     17            2       2       9      11      11\n",
              "2     15            2       6      12      13      12\n",
              "3     15            3       0      14      14      14\n",
              "4     16            2       0      11      13      13"
            ]
          },
          "metadata": {},
          "execution_count": 10
        }
      ]
    },
    {
      "cell_type": "code",
      "metadata": {
        "colab": {
          "base_uri": "https://localhost:8080/"
        },
        "id": "KolQZN6rFjvW",
        "outputId": "54b75442-e3f5-4c2a-b131-ff5504060f05"
      },
      "source": [
        "col = dataset.loc[: , \"Prova1\":\"Prova3\"]\n",
        "print(col)"
      ],
      "execution_count": 12,
      "outputs": [
        {
          "output_type": "stream",
          "name": "stdout",
          "text": [
            "     Prova1  Prova2  Prova3\n",
            "0         0      11      11\n",
            "1         9      11      11\n",
            "2        12      13      12\n",
            "3        14      14      14\n",
            "4        11      13      13\n",
            "..      ...     ...     ...\n",
            "644      10      11      10\n",
            "645      15      15      16\n",
            "646      11      12       9\n",
            "647      10      10      10\n",
            "648      10      11      11\n",
            "\n",
            "[649 rows x 3 columns]\n"
          ]
        }
      ]
    },
    {
      "cell_type": "code",
      "metadata": {
        "colab": {
          "base_uri": "https://localhost:8080/"
        },
        "id": "Cl4sqHKWFx_B",
        "outputId": "c501c649-eb72-440e-f917-bc977e624478"
      },
      "source": [
        "dataset['ProvaMedia'] = col.mean(axis=1)\n",
        "print(dataset)"
      ],
      "execution_count": 17,
      "outputs": [
        {
          "output_type": "stream",
          "name": "stdout",
          "text": [
            "     Idade  TempoEstudo  Faltas  Prova1  Prova2  Prova3  ProvaMedia\n",
            "0       18            2       4       0      11      11    7.333333\n",
            "1       17            2       2       9      11      11   10.333333\n",
            "2       15            2       6      12      13      12   12.333333\n",
            "3       15            3       0      14      14      14   14.000000\n",
            "4       16            2       0      11      13      13   12.333333\n",
            "..     ...          ...     ...     ...     ...     ...         ...\n",
            "644     19            3       4      10      11      10   10.333333\n",
            "645     18            2       4      15      15      16   15.333333\n",
            "646     18            2       6      11      12       9   10.666667\n",
            "647     17            1       6      10      10      10   10.000000\n",
            "648     18            1       4      10      11      11   10.666667\n",
            "\n",
            "[649 rows x 7 columns]\n"
          ]
        }
      ]
    },
    {
      "cell_type": "code",
      "metadata": {
        "colab": {
          "base_uri": "https://localhost:8080/"
        },
        "id": "ibe6YaSmAjaj",
        "outputId": "4debca27-2333-42b5-e87a-0bed68893702"
      },
      "source": [
        "######## MODELO A  - MÉDIA DAS PROVAS X IDADE\n",
        "######## MODELO A: Variável X será Idade e Y será a média das provas\n",
        "\n",
        "X = dataset.Idade.values.reshape(-1, 1)\n",
        "Y = dataset.ProvaMedia.values.reshape(-1, 1)\n",
        "\n",
        "linear_regressor = LinearRegression()\n",
        "linear_regressor.fit(X, Y)\n",
        "\n",
        "####Aplicação do Modelo###\n",
        "linear_regressor.predict(np.array([[23]]))\n"
      ],
      "execution_count": 73,
      "outputs": [
        {
          "output_type": "execute_result",
          "data": {
            "text/plain": [
              "array([[9.6825524]])"
            ]
          },
          "metadata": {},
          "execution_count": 73
        }
      ]
    },
    {
      "cell_type": "code",
      "metadata": {
        "colab": {
          "base_uri": "https://localhost:8080/"
        },
        "id": "p4Sif7rhQ6cr",
        "outputId": "e2570333-0664-4acd-8eb0-3b8fa5ca51d5"
      },
      "source": [
        "######## MODELO B  - MÉDIA DAS PROVAS X TEMPO DE ESTUDO\n",
        "######## MODELO B: Variável X será Tempo de Estudo e Y será a média das provas\n",
        "\n",
        "X = dataset.TempoEstudo.values.reshape(-1, 1)\n",
        "Y = dataset.ProvaMedia.values.reshape(-1, 1)\n",
        "\n",
        "linear_regressor = LinearRegression()\n",
        "linear_regressor.fit(X, Y)\n",
        "\n",
        "\n",
        "####Aplicação do Modelo###\n",
        "linear_regressor.predict(np.array([[60]]))"
      ],
      "execution_count": 74,
      "outputs": [
        {
          "output_type": "execute_result",
          "data": {
            "text/plain": [
              "array([[63.51882211]])"
            ]
          },
          "metadata": {},
          "execution_count": 74
        }
      ]
    },
    {
      "cell_type": "code",
      "metadata": {
        "colab": {
          "base_uri": "https://localhost:8080/"
        },
        "id": "QDQN73tjRI_g",
        "outputId": "05a58f8b-7bdb-4b70-c7ed-6ca218c6a502"
      },
      "source": [
        "######## MODELO C  - MÉDIA DAS PROVAS X FALTAS\n",
        "######## MODELO C: Variável X será Faltas e Y será a média das provas\n",
        "\n",
        "X = dataset.Faltas.values.reshape(-1, 1)\n",
        "Y = dataset.ProvaMedia.values.reshape(-1, 1)\n",
        "\n",
        "linear_regressor = LinearRegression()\n",
        "linear_regressor.fit(X, Y)\n",
        "\n",
        "\n",
        "####Aplicação do Modelo###\n",
        "linear_regressor.predict(np.array([[32]]))"
      ],
      "execution_count": 75,
      "outputs": [
        {
          "output_type": "execute_result",
          "data": {
            "text/plain": [
              "array([[9.46192911]])"
            ]
          },
          "metadata": {},
          "execution_count": 75
        }
      ]
    }
  ]
}