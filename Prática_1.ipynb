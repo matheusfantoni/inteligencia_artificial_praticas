{
  "nbformat": 4,
  "nbformat_minor": 0,
  "metadata": {
    "colab": {
      "name": "Prática_1.ipynb",
      "provenance": [],
      "toc_visible": true,
      "include_colab_link": true
    },
    "kernelspec": {
      "name": "python3",
      "display_name": "Python 3"
    }
  },
  "cells": [
    {
      "cell_type": "markdown",
      "metadata": {
        "id": "view-in-github",
        "colab_type": "text"
      },
      "source": [
        "<a href=\"https://colab.research.google.com/github/matheusfantoni/inteligencia_artificial_praticas/blob/master/Pr%C3%A1tica_1.ipynb\" target=\"_parent\"><img src=\"https://colab.research.google.com/assets/colab-badge.svg\" alt=\"Open In Colab\"/></a>"
      ]
    },
    {
      "cell_type": "markdown",
      "metadata": {
        "id": "xpwEy0dQAGgK"
      },
      "source": [
        "## Fundamentos"
      ]
    },
    {
      "cell_type": "markdown",
      "metadata": {
        "id": "VjkhKMzq-6rs"
      },
      "source": [
        "**1 -** Escreva um código para exibir uma mensagem \"Olá Mundo\"\n"
      ]
    },
    {
      "cell_type": "code",
      "metadata": {
        "id": "59lcB0A07Ddw",
        "colab": {
          "base_uri": "https://localhost:8080/"
        },
        "outputId": "0c519ec8-f547-4d7a-d861-f5654ed72bb7"
      },
      "source": [
        "print(\"Hello WORLD\")"
      ],
      "execution_count": null,
      "outputs": [
        {
          "output_type": "stream",
          "name": "stdout",
          "text": [
            "Hello WORLD\n"
          ]
        }
      ]
    },
    {
      "cell_type": "markdown",
      "metadata": {
        "id": "7Ur9tPVy_Df4"
      },
      "source": [
        "**2 -** Escreva duas varíaveis e exiba elas com um print\n"
      ]
    },
    {
      "cell_type": "code",
      "metadata": {
        "id": "f2MJJ1YE_HqP",
        "colab": {
          "base_uri": "https://localhost:8080/"
        },
        "outputId": "c26ab130-b18b-469a-ed26-b2b0518d62a3"
      },
      "source": [
        "a = 10\n",
        "b = 5\n",
        "print(\"Saída da variável A: \", a)\n",
        "print(\"Saída da variável B: \", b)"
      ],
      "execution_count": null,
      "outputs": [
        {
          "output_type": "stream",
          "name": "stdout",
          "text": [
            "Saída da variável A:  10\n",
            "Saída da variável B:  5\n"
          ]
        }
      ]
    },
    {
      "cell_type": "markdown",
      "metadata": {
        "id": "WiKbZk3AeGMa"
      },
      "source": [
        "**3 -** Escreva abaixo um programa completo que leia dois números (devem ser digitados pelo usuário) e calcule e exiba a média. Quando executado, o programa deve gerar a seguinte saída: <br>`Entre com o primeiro número: 10`<br>`Entre com o segundo número: 5`<br>`Média: 7.5`<br>**Dica**: No Python3 o retorno fa função `input('mensagem')` é uma `String`, que deve ser convertida para `float()` para uso em cálculos."
      ]
    },
    {
      "cell_type": "code",
      "metadata": {
        "id": "n88DkUYmAJ-2",
        "colab": {
          "base_uri": "https://localhost:8080/"
        },
        "outputId": "b06bf5b5-0315-44d7-c2f0-abac5112c87d"
      },
      "source": [
        "a = float(input(\"Entre com o primeiro número: \"))\n",
        "b = float(input(\"Entre com o segundo número: \"))\n",
        "\n",
        "media = (a + b) / 2\n",
        "print(\"Média: \", media)"
      ],
      "execution_count": null,
      "outputs": [
        {
          "output_type": "stream",
          "name": "stdout",
          "text": [
            "Entre com o primeiro número: 10\n",
            "Entre com o segundo número: 5\n",
            "Média:  7.5\n"
          ]
        }
      ]
    },
    {
      "cell_type": "markdown",
      "metadata": {
        "id": "zmDwQ_v1AMVF"
      },
      "source": [
        "**4 -** Crie uma lista de frutas com 5 frutas e exiba as frutas na tela"
      ]
    },
    {
      "cell_type": "code",
      "metadata": {
        "colab": {
          "base_uri": "https://localhost:8080/"
        },
        "id": "ffXkg9tHIiLN",
        "outputId": "78cf4c39-a8d0-46bf-968a-9767c38da726"
      },
      "source": [
        "a = ['Maça', 'Banana', 'Manga', 'Abacaxi', 'Morango']\n",
        "print(a)\n"
      ],
      "execution_count": null,
      "outputs": [
        {
          "output_type": "stream",
          "name": "stdout",
          "text": [
            "['Maça', 'Banana', 'Manga', 'Abacaxi', 'Morango']\n",
            "Maça\n",
            "Banana\n",
            "Manga\n",
            "Abacaxi\n",
            "Morango\n"
          ]
        }
      ]
    },
    {
      "cell_type": "markdown",
      "metadata": {
        "id": "hHucgALwHmJ_"
      },
      "source": [
        "**5 -** Faça um for para percorrer a lista de frutas criadas (não é preciso criar de novo) e print em tela o nome de cada uma das frutas"
      ]
    },
    {
      "cell_type": "code",
      "metadata": {
        "id": "_oTqUfLbIASS",
        "colab": {
          "base_uri": "https://localhost:8080/"
        },
        "outputId": "cbce8dbf-fdd8-49bf-92b1-28e37e85c5a3"
      },
      "source": [
        "for x in a:\n",
        "  print(x) "
      ],
      "execution_count": null,
      "outputs": [
        {
          "output_type": "stream",
          "name": "stdout",
          "text": [
            "Maça\n",
            "Banana\n",
            "Manga\n",
            "Abacaxi\n",
            "Morango\n"
          ]
        }
      ]
    },
    {
      "cell_type": "markdown",
      "metadata": {
        "id": "WvWxrSEXIBMr"
      },
      "source": [
        "**6 -** Faça um for em de 1 até 10 e imprima os números pares na tela"
      ]
    },
    {
      "cell_type": "code",
      "metadata": {
        "id": "Mn0D5A6bIVse",
        "colab": {
          "base_uri": "https://localhost:8080/"
        },
        "outputId": "db90361b-6922-4f19-e9ee-648a2733c8b1"
      },
      "source": [
        "for x in range(1,11):\n",
        "  if x % 2 == 0:\n",
        "    print(x) "
      ],
      "execution_count": null,
      "outputs": [
        {
          "output_type": "stream",
          "name": "stdout",
          "text": [
            "2\n",
            "4\n",
            "6\n",
            "8\n",
            "10\n"
          ]
        }
      ]
    },
    {
      "cell_type": "markdown",
      "metadata": {
        "id": "KFbMBv6XIYhu"
      },
      "source": [
        "**7 -** Defina uma lista com 20 números diferentes.Escreva um código para contar a frequência de um número em uma lista de números"
      ]
    },
    {
      "cell_type": "code",
      "metadata": {
        "id": "Fa_jvuayJ_6n",
        "colab": {
          "base_uri": "https://localhost:8080/"
        },
        "outputId": "bc54e8e7-e382-4a4b-9cd4-cc3bf9969a91"
      },
      "source": [
        "## Usando biblioteca externa para contagem de números\n",
        "import collections\n",
        "a = ['3', '20', '213', '99', '78', '3', '20', '22', '10', '19', '11', '50', '3', '22', '20', '3', '34', '78', '213', '3']\n",
        "counter=collections.Counter(a)\n",
        "print(counter)"
      ],
      "execution_count": null,
      "outputs": [
        {
          "output_type": "stream",
          "name": "stdout",
          "text": [
            "Counter({'3': 5, '20': 3, '213': 2, '78': 2, '22': 2, '99': 1, '10': 1, '19': 1, '11': 1, '50': 1, '34': 1})\n"
          ]
        }
      ]
    },
    {
      "cell_type": "markdown",
      "metadata": {
        "id": "GFidM1LCKVV-"
      },
      "source": [
        "**8 -** Crie um dicionário para armazenar o objetvo Pokemon - Pikachu, contendo as propriedades tipo (Choque), ataque (15), defesa (15) e HP (15)"
      ]
    },
    {
      "cell_type": "code",
      "metadata": {
        "id": "_8UidZ5sKT_7",
        "colab": {
          "base_uri": "https://localhost:8080/"
        },
        "outputId": "104a737c-e605-4bf1-f0ff-2d84d58259f0"
      },
      "source": [
        "pikachu = {'Tipo': 'Choque',\n",
        "           'Ataque': '15',\n",
        "           'Defesa': '15',\n",
        "           'HP': '15'}\n",
        "\n",
        "print(pikachu)"
      ],
      "execution_count": null,
      "outputs": [
        {
          "output_type": "stream",
          "name": "stdout",
          "text": [
            "{'Tipo': 'Choque', 'Ataque': '15', 'Defesa': '15', 'HP': '15'}\n"
          ]
        }
      ]
    },
    {
      "cell_type": "markdown",
      "metadata": {
        "id": "kJBpRF9cKoSt"
      },
      "source": [
        "**9 -** Calcule o IV deste Pokemon obedecendo a seguinte regra: O IV é dado pela soma do ataque, defesa e do HP. Caso seja 45 a resposta é 100, caso seja entre 38 e 43, 90. Entre 35 e 38 - 80, entre 30 e 35 - 70 e menor que 30, 50."
      ]
    },
    {
      "cell_type": "code",
      "metadata": {
        "id": "3W8MDZyOLBOa",
        "colab": {
          "base_uri": "https://localhost:8080/"
        },
        "outputId": "914cb98f-31e1-4158-a752-16cc7361728f"
      },
      "source": [
        "ataque = 15\n",
        "defesa = 15\n",
        "hp = 15\n",
        "\n",
        "calculoiv = ataque + defesa + hp\n",
        "\n",
        "if calculoiv == 45:\n",
        "  print(\"100\")\n",
        "\n",
        "elif calculoiv > 38 and calculoiv < 43:\n",
        "  print(\"90\")\n",
        "\n",
        "elif calculoiv > 35 and calculoiv < 38:\n",
        "  print(\"80\")\n",
        "\n",
        "elif calculoiv > 30 and calculoiv < 35:\n",
        "  print(\"70\")\n",
        "\n",
        "elif calculoiv < 30:\n",
        "  print(\"50\")\n"
      ],
      "execution_count": null,
      "outputs": [
        {
          "output_type": "stream",
          "name": "stdout",
          "text": [
            "100\n"
          ]
        }
      ]
    },
    {
      "cell_type": "markdown",
      "metadata": {
        "id": "0MJegT1HLB1Q"
      },
      "source": [
        "**10 -** Dado a lista de [0,1,2,3,4] escreva um codigo que irá imprimir o valor da soma dessa lista?"
      ]
    },
    {
      "cell_type": "code",
      "metadata": {
        "id": "4lkVwoWjLWXc",
        "colab": {
          "base_uri": "https://localhost:8080/"
        },
        "outputId": "e5662ea1-54a9-47cd-87ef-bccbf8ea5244"
      },
      "source": [
        "s = [0, 1, 2, 3, 4]\n",
        "sum(s)"
      ],
      "execution_count": null,
      "outputs": [
        {
          "output_type": "execute_result",
          "data": {
            "text/plain": [
              "10"
            ]
          },
          "metadata": {},
          "execution_count": 29
        }
      ]
    },
    {
      "cell_type": "markdown",
      "metadata": {
        "id": "YSsgFQfpLXS6"
      },
      "source": [
        "**11 -** Crie uma lista vazia e implemente um código que verifique se está lista está vazia (deverá retornar True) "
      ]
    },
    {
      "cell_type": "code",
      "metadata": {
        "id": "86eugvdIL4lQ",
        "colab": {
          "base_uri": "https://localhost:8080/"
        },
        "outputId": "da6dbd2c-bb8e-44a7-db9a-f06b13c5ae0b"
      },
      "source": [
        "a = []\n",
        "len(a)\n",
        "\n",
        "if len(a) == 0:\n",
        "  print(\"True\")\n",
        "else:\n",
        "  print(\"False\") "
      ],
      "execution_count": null,
      "outputs": [
        {
          "output_type": "stream",
          "name": "stdout",
          "text": [
            "True\n"
          ]
        }
      ]
    },
    {
      "cell_type": "markdown",
      "metadata": {
        "id": "JJRbHXHtMiAm"
      },
      "source": [
        "**12 -** Escreva um código que irá receber um nome digitado por um usuário e irá retornar o número de caracteres neste nome"
      ]
    },
    {
      "cell_type": "code",
      "metadata": {
        "id": "M0Ye1Q7WMQz6",
        "colab": {
          "base_uri": "https://localhost:8080/"
        },
        "outputId": "3ac0da8a-384f-4478-e1a8-b43465e87f5b"
      },
      "source": [
        "nome = input(\"Digite o seu nome:\")\n",
        "\n",
        "print(\"Número total de caracteres:\" ,len(nome))"
      ],
      "execution_count": null,
      "outputs": [
        {
          "output_type": "stream",
          "name": "stdout",
          "text": [
            "Digite o seu nome:Ivam\n",
            "Número total de caracteres: 4\n"
          ]
        }
      ]
    },
    {
      "cell_type": "markdown",
      "metadata": {
        "id": "YWNkBNvdMqT-"
      },
      "source": [
        "**13 -** Escreva um código para encontrar quais números são divisíveis por 7 e múltiplos de 5 entre 1500 e 2700 (ambos incluídos)"
      ]
    },
    {
      "cell_type": "code",
      "metadata": {
        "id": "8l6ZUlVnM0PH",
        "colab": {
          "base_uri": "https://localhost:8080/"
        },
        "outputId": "f76020a9-7dfb-4c25-bc36-3c60293e1997"
      },
      "source": [
        "numeroPartida = 1500\n",
        "numeroFim = 2700\n",
        "divisivelPorSete = 0\n",
        "multiploDeCinco = 0\n",
        "\n",
        "while numeroPartida <= numeroFim:\n",
        "  if numeroPartida % 7 == 0:\n",
        "    divisivelPorSete += 1\n",
        "  \n",
        "  if numeroPartida % 5 == 0:\n",
        "    multiploDeCinco += 1\n",
        "\n",
        "  numeroPartida += 1\n",
        "\n",
        "print(\"Quantidade de números divisíveis por 7: \", divisivelPorSete)\n",
        "print(\"Quantidade de números múltiplos de 5: \", multiploDeCinco)\n"
      ],
      "execution_count": null,
      "outputs": [
        {
          "output_type": "stream",
          "name": "stdout",
          "text": [
            "Quantidade de números divisíveis por 7:  171\n",
            "Quantidade de números múltiplos de 5:  241\n"
          ]
        }
      ]
    },
    {
      "cell_type": "markdown",
      "metadata": {
        "id": "BnO5eic4M1a_"
      },
      "source": [
        "**14 -** Escreva um programa para calcular a mediana de 3 números digitados pelo usuário (Não vale usar função pronta)"
      ]
    },
    {
      "cell_type": "code",
      "metadata": {
        "id": "eF1VOC_RMxjG",
        "colab": {
          "base_uri": "https://localhost:8080/"
        },
        "outputId": "803f2924-1c1e-445d-f587-072a89af39bd"
      },
      "source": [
        "print(\"##### Calculo Mediana #####\")\n",
        "\n",
        "valores = []\n",
        "\n",
        "n1 = int(input(\"Digite o primeiro número: \" ))\n",
        "valores.append(n1)\n",
        "n2 = int(input(\"Digite o segundo número: \"))\n",
        "valores.append(n2)\n",
        "n3 = int(input(\"Digite o terceiro número: \"))\n",
        "valores.append(n3)\n",
        "\n",
        "valores.sort()\n",
        "\n",
        "print(\"Mediana: \", valores[1])\n",
        "\n",
        "\n",
        "\n"
      ],
      "execution_count": null,
      "outputs": [
        {
          "output_type": "stream",
          "name": "stdout",
          "text": [
            "##### Calculo Mediana #####\n",
            "Digite o primeiro número: 9\n",
            "Digite o segundo número: 3\n",
            "Digite o terceiro número: 7\n",
            "Mediana:  7\n"
          ]
        }
      ]
    },
    {
      "cell_type": "markdown",
      "metadata": {
        "id": "Pjs4NSjXL5LF"
      },
      "source": [
        "**15 -** Bônus Crie uma lista, embaralhe esta lista e imprima a versão embaralhada. Dica: Procurar por importação da função shuffle. No Bloco de texto abaixo escreva o que encontrou sobre a função e o que entendeu sobre importação."
      ]
    },
    {
      "cell_type": "code",
      "metadata": {
        "id": "wVFL1bRXMMon",
        "colab": {
          "base_uri": "https://localhost:8080/"
        },
        "outputId": "7ac75453-88ce-4623-8a63-0b21a17a6025"
      },
      "source": [
        "import random\n",
        "\n",
        "a = ['3', '20', '213', '99', '78', '3', '20', '22', '10', '19', '11', '50', '3', '22', '20', '3', '34', '78', '213', '3']\n",
        "print(\"Lista Original:\", a)\n",
        "\n",
        "random.shuffle(a)\n",
        "print(\"Lista Embaralhada:\", a)\n",
        "\n",
        "#### A função shuffle, pode-se entender que embaralha os elementos de uma lista, conforme visto na execução do código. É preciso instanciar a biblioteca random para que tudo funcione corretamente.\n"
      ],
      "execution_count": null,
      "outputs": [
        {
          "output_type": "stream",
          "name": "stdout",
          "text": [
            "Lista Original: ['3', '20', '213', '99', '78', '3', '20', '22', '10', '19', '11', '50', '3', '22', '20', '3', '34', '78', '213', '3']\n",
            "Lista Embaralhada: ['213', '34', '78', '3', '3', '99', '3', '19', '20', '22', '20', '11', '10', '3', '22', '50', '78', '3', '20', '213']\n"
          ]
        }
      ]
    },
    {
      "cell_type": "markdown",
      "metadata": {
        "id": "6EeOpH3aMM7t"
      },
      "source": [
        "/* Escreva aqui a resposta em texto comentada */"
      ]
    }
  ]
}